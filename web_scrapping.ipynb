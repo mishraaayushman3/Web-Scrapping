{
  "nbformat": 4,
  "nbformat_minor": 0,
  "metadata": {
    "colab": {
      "name": "web scrapping.ipynb",
      "provenance": [],
      "toc_visible": true
    },
    "kernelspec": {
      "name": "python2",
      "display_name": "Python 2"
    }
  },
  "cells": [
    {
      "cell_type": "code",
      "metadata": {
        "id": "NYVtwhfS_kyu",
        "colab_type": "code",
        "colab": {}
      },
      "source": [
        "import requests"
      ],
      "execution_count": 0,
      "outputs": []
    },
    {
      "cell_type": "code",
      "metadata": {
        "id": "dr0p-WcaBVf6",
        "colab_type": "code",
        "colab": {}
      },
      "source": [
        "!pip install mechanicalSoup"
      ],
      "execution_count": 0,
      "outputs": []
    },
    {
      "cell_type": "code",
      "metadata": {
        "id": "J-idAZW3BzRu",
        "colab_type": "code",
        "colab": {}
      },
      "source": [
        "import mechanicalsoup\n",
        "br = mechanicalsoup.StatefulBrowser()\n",
        "br.open(\"http://www.rtovehicleinformation.com/\")"
      ],
      "execution_count": 0,
      "outputs": []
    },
    {
      "cell_type": "code",
      "metadata": {
        "id": "QWttkM5CB3U-",
        "colab_type": "code",
        "colab": {}
      },
      "source": [
        "form = br.select_form('#rto_adres_form1')\n",
        "form.set(\"vehicle_shrt_name\",number)"
      ],
      "execution_count": 0,
      "outputs": []
    },
    {
      "cell_type": "code",
      "metadata": {
        "id": "i0jfmrllB9zg",
        "colab_type": "code",
        "colab": {}
      },
      "source": [
        "form.choose_submit(None)\n",
        "response = br.submit_selected()"
      ],
      "execution_count": 0,
      "outputs": []
    },
    {
      "cell_type": "code",
      "metadata": {
        "id": "uxlrQ7vmCApC",
        "colab_type": "code",
        "colab": {}
      },
      "source": [
        "response.text"
      ],
      "execution_count": 0,
      "outputs": []
    },
    {
      "cell_type": "code",
      "metadata": {
        "id": "0I4d1FBSCC_X",
        "colab_type": "code",
        "colab": {}
      },
      "source": [
        "from bs4 import BeautifulSoup"
      ],
      "execution_count": 0,
      "outputs": []
    },
    {
      "cell_type": "code",
      "metadata": {
        "id": "nbxetbmqCFAB",
        "colab_type": "code",
        "colab": {}
      },
      "source": [
        "soup = BeautifulSoup(response.text,'html.parser')\n",
        "tr = soup.find_all('tr')"
      ],
      "execution_count": 0,
      "outputs": []
    },
    {
      "cell_type": "code",
      "metadata": {
        "id": "_OnxM1tsCIU_",
        "colab_type": "code",
        "colab": {}
      },
      "source": [
        "tr[2].find_all('td')"
      ],
      "execution_count": 0,
      "outputs": []
    },
    {
      "cell_type": "code",
      "metadata": {
        "id": "Ap0cj8mKCJpb",
        "colab_type": "code",
        "colab": {}
      },
      "source": [
        "[(tr[i].find_all('td')[0].get_text()+\" : \"+tr[i].find_all('td')[1].get_text())for i in range(0,5)]"
      ],
      "execution_count": 0,
      "outputs": []
    }
  ]
}